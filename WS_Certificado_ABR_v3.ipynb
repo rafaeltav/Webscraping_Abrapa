{
 "cells": [
  {
   "cell_type": "markdown",
   "id": "e8247717",
   "metadata": {
    "id": "e8247717"
   },
   "source": [
    "# Web Scraping Certificado ABR Fardos de Algodão\n",
    "#### <font color = blue> Função: Realizar consultas do certificado ABR no site da Abrapa fardo a fardo\n",
    "Automatização do processo de coleta da numeração dos certificados"
   ]
  },
  {
   "cell_type": "markdown",
   "id": "PU3cEbcId1Z3",
   "metadata": {
    "id": "PU3cEbcId1Z3"
   },
   "source": [
    "## Importando bibliotecas e definindo funções"
   ]
  },
  {
   "cell_type": "code",
   "execution_count": 1,
   "id": "3f8f8f00",
   "metadata": {
    "id": "3f8f8f00"
   },
   "outputs": [],
   "source": [
    "# importando bibliotecas\n",
    "import requests\n",
    "import bs4\n",
    "from bs4 import BeautifulSoup\n",
    "import pandas as pd\n",
    "import time"
   ]
  },
  {
   "cell_type": "code",
   "execution_count": 2,
   "id": "oTKQg6g_kkzj",
   "metadata": {
    "id": "oTKQg6g_kkzj"
   },
   "outputs": [],
   "source": [
    "# configurando o header do navegador Chrome\n",
    "headers = {'User-Agent': 'Mozilla/5.0 (Windows NT 10.0; Win64; x64) AppleWebKit/537.36 (KHTML, like Gecko) Chrome/108.0.0.0 Safari/537.36'}"
   ]
  },
  {
   "cell_type": "code",
   "execution_count": 3,
   "id": "4d562a88",
   "metadata": {
    "id": "4d562a88"
   },
   "outputs": [],
   "source": [
    "# definindo função de requisição do site\n",
    "def ConsultaWeb(url):\n",
    "    try:\n",
    "        req = requests.get(url, headers = headers, timeout = 3) \n",
    "        return req.text\n",
    "    \n",
    "    except:\n",
    "        pass\n",
    "        print('Tentativa sem sucesso, verificar link')"
   ]
  },
  {
   "cell_type": "code",
   "execution_count": 4,
   "id": "c3c41d79",
   "metadata": {
    "id": "c3c41d79"
   },
   "outputs": [],
   "source": [
    "# definindo função para retornar o html da página\n",
    "def captura_html_pagina(url):\n",
    "    html = ConsultaWeb(url)\n",
    "    soup = BeautifulSoup(html, 'html.parser')\n",
    "    return soup"
   ]
  },
  {
   "cell_type": "code",
   "execution_count": 5,
   "id": "Vskk1dcDhUzB",
   "metadata": {
    "id": "Vskk1dcDhUzB"
   },
   "outputs": [],
   "source": [
    "# definindo função que coleta a informação da tag html onde encontra-se a informação do certificado ABR\n",
    "def Certificado(html):\n",
    "    cert = html.find('div', {'class' : 'col-md-6'}).find_all('span')\n",
    "    y = cert[-2].get_text()\n",
    "    return y"
   ]
  },
  {
   "cell_type": "code",
   "execution_count": 6,
   "id": "cc6ed840",
   "metadata": {
    "id": "cc6ed840"
   },
   "outputs": [],
   "source": [
    "# definindo função que coleta a informação e popula um dicionário com o par Fardo x Certificado\n",
    "def FardoCabecalho(fardo):\n",
    "    url = 'https://www.abrapa.com.br/Paginas/Rastreabilidade/Rastreabilidade%20-%20Resultados.aspx?cb='+str(fardo)\n",
    "    html = captura_html_pagina(url)\n",
    "    dic = {}\n",
    "    dic['Fardo'] = fardo\n",
    "    dic['Certificado ABR'] = Certificado(html)\n",
    "    return dic"
   ]
  },
  {
   "cell_type": "code",
   "execution_count": 13,
   "id": "mywpR7i6DJ3G",
   "metadata": {
    "id": "mywpR7i6DJ3G"
   },
   "outputs": [],
   "source": [
    "# definindo função de loop de consultas com iterações de todos elementos da lista completa de fardos\n",
    "def TabelaConsulta():\n",
    "    \n",
    "    consulta = []\n",
    "    consulta_erro = []\n",
    "    contador = 0\n",
    "    erro = 0\n",
    "    \n",
    "    for fd in lista_relacao:\n",
    "    \n",
    "      try:\n",
    "        consulta = consulta + [FardoCabecalho(fd)]\n",
    "        contador += 1\n",
    "        \n",
    "        print(contador, 'consulta(s) efetuada(s)', '| Fardo:', fd)\n",
    "        time.sleep(1.5) #acrescentando segundos de espaço entre cada interação\n",
    "      \n",
    "      except:\n",
    "        contador += 1\n",
    "        erro += 1\n",
    "        consulta_erro = consulta_erro + [fd]\n",
    "        print(contador, 'consulta(s) efetuada(s) | Fardo com erro:', fd)\n",
    "        pass\n",
    "    \n",
    "    \n",
    "    print('\\n\\nOperação concluída |', erro, 'Fardo(s) apresentaram erro(s) na consulta:')\n",
    "    print('\\n', consulta_erro)\n",
    "\n",
    "    tabela = pd.DataFrame(consulta)\n",
    "    \n",
    "    return tabela"
   ]
  },
  {
   "cell_type": "markdown",
   "id": "28563b3c",
   "metadata": {
    "id": "28563b3c"
   },
   "source": [
    "## Importando a relação de fardos"
   ]
  },
  {
   "cell_type": "code",
   "execution_count": 8,
   "id": "fb9068b9",
   "metadata": {
    "id": "fb9068b9"
   },
   "outputs": [],
   "source": [
    "# Importando relação de fardos do arquivo excel\n",
    "relacao = pd.read_excel('RelacaoFardos.xlsx', dtype = str)"
   ]
  },
  {
   "cell_type": "code",
   "execution_count": 9,
   "id": "c93e6330",
   "metadata": {
    "id": "c93e6330"
   },
   "outputs": [],
   "source": [
    "# Convertendo coluna 'Fardo' do arquivo em lista:\n",
    "lista_relacao = relacao['Fardo'].tolist()"
   ]
  },
  {
   "cell_type": "markdown",
   "id": "fKCvnUR6i807",
   "metadata": {
    "id": "fKCvnUR6i807"
   },
   "source": [
    "## Executando script & exportando consulta"
   ]
  },
  {
   "cell_type": "code",
   "execution_count": null,
   "id": "56ab206c",
   "metadata": {
    "colab": {
     "base_uri": "https://localhost:8080/"
    },
    "id": "56ab206c",
    "outputId": "7241f99d-ac8f-4aa8-e9bc-0bb1fb4df880"
   },
   "outputs": [
    {
     "name": "stdout",
     "output_type": "stream",
     "text": [
      "1 consulta(s) efetuada(s) | Fardo: 00078986082711464128\n",
      "2 consulta(s) efetuada(s) | Fardo: 00078986082711464173\n"
     ]
    }
   ],
   "source": [
    "ConsultaFardos = TabelaConsulta()"
   ]
  },
  {
   "cell_type": "code",
   "execution_count": 11,
   "id": "SSkBd7i7Obo3",
   "metadata": {
    "colab": {
     "base_uri": "https://localhost:8080/",
     "height": 300
    },
    "id": "SSkBd7i7Obo3",
    "outputId": "e9ab5af8-7ef7-4139-e17d-d34e97cfc7b4"
   },
   "outputs": [
    {
     "data": {
      "text/html": [
       "<div>\n",
       "<style scoped>\n",
       "    .dataframe tbody tr th:only-of-type {\n",
       "        vertical-align: middle;\n",
       "    }\n",
       "\n",
       "    .dataframe tbody tr th {\n",
       "        vertical-align: top;\n",
       "    }\n",
       "\n",
       "    .dataframe thead th {\n",
       "        text-align: right;\n",
       "    }\n",
       "</style>\n",
       "<table border=\"1\" class=\"dataframe\">\n",
       "  <thead>\n",
       "    <tr style=\"text-align: right;\">\n",
       "      <th></th>\n",
       "      <th>Fardo</th>\n",
       "      <th>Certificado ABR</th>\n",
       "    </tr>\n",
       "  </thead>\n",
       "  <tbody>\n",
       "    <tr>\n",
       "      <th>0</th>\n",
       "      <td>00078986082711464128</td>\n",
       "      <td>357.031.MT.2022</td>\n",
       "    </tr>\n",
       "    <tr>\n",
       "      <th>1</th>\n",
       "      <td>00078986082711464173</td>\n",
       "      <td>357.031.MT.2022</td>\n",
       "    </tr>\n",
       "    <tr>\n",
       "      <th>2</th>\n",
       "      <td>00078986082711464272</td>\n",
       "      <td>357.031.MT.2022</td>\n",
       "    </tr>\n",
       "    <tr>\n",
       "      <th>3</th>\n",
       "      <td>00078986082711464388</td>\n",
       "      <td>357.031.MT.2022</td>\n",
       "    </tr>\n",
       "    <tr>\n",
       "      <th>4</th>\n",
       "      <td>00078986082711473205</td>\n",
       "      <td>357.031.MT.2022</td>\n",
       "    </tr>\n",
       "    <tr>\n",
       "      <th>5</th>\n",
       "      <td>00078986082711473229</td>\n",
       "      <td>357.031.MT.2022</td>\n",
       "    </tr>\n",
       "    <tr>\n",
       "      <th>6</th>\n",
       "      <td>00078986082711473236</td>\n",
       "      <td>357.031.MT.2022</td>\n",
       "    </tr>\n",
       "    <tr>\n",
       "      <th>7</th>\n",
       "      <td>00078985385516101542</td>\n",
       "      <td>MT</td>\n",
       "    </tr>\n",
       "  </tbody>\n",
       "</table>\n",
       "</div>"
      ],
      "text/plain": [
       "                  Fardo  Certificado ABR\n",
       "0  00078986082711464128  357.031.MT.2022\n",
       "1  00078986082711464173  357.031.MT.2022\n",
       "2  00078986082711464272  357.031.MT.2022\n",
       "3  00078986082711464388  357.031.MT.2022\n",
       "4  00078986082711473205  357.031.MT.2022\n",
       "5  00078986082711473229  357.031.MT.2022\n",
       "6  00078986082711473236  357.031.MT.2022\n",
       "7  00078985385516101542               MT"
      ]
     },
     "execution_count": 11,
     "metadata": {},
     "output_type": "execute_result"
    }
   ],
   "source": [
    "ConsultaFardos"
   ]
  },
  {
   "cell_type": "code",
   "execution_count": 12,
   "id": "83e5a8d6",
   "metadata": {
    "id": "83e5a8d6"
   },
   "outputs": [],
   "source": [
    "# Salvando arquivo em csv\n",
    "ConsultaFardos.to_csv('ConsultaFardos.txt', sep=\";\", encoding='latin-1', index= None)\n"
   ]
  }
 ],
 "metadata": {
  "colab": {
   "provenance": []
  },
  "kernelspec": {
   "display_name": "Python 3",
   "language": "python",
   "name": "python3"
  },
  "language_info": {
   "codemirror_mode": {
    "name": "ipython",
    "version": 3
   },
   "file_extension": ".py",
   "mimetype": "text/x-python",
   "name": "python",
   "nbconvert_exporter": "python",
   "pygments_lexer": "ipython3",
   "version": "3.8.8"
  }
 },
 "nbformat": 4,
 "nbformat_minor": 5
}
